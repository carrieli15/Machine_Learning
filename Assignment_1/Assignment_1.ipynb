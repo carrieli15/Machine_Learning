{
 "cells": [
  {
   "cell_type": "markdown",
   "metadata": {},
   "source": [
    "# Assignment 1 - Probability, Linear Algebra, & Computational Programming"
   ]
  },
  {
   "cell_type": "markdown",
   "metadata": {},
   "source": [
    "Version 2: Updated 1/14/24 (Question 4 revised)"
   ]
  },
  {
   "cell_type": "markdown",
   "metadata": {},
   "source": [
    "## *Jiechen Li*\n",
    "Netid: jl1254\n",
    "\n",
    "*Names of students you worked with on this assignment*: Yulei Xia; also ChatGPT for calcular concepts and formula clarification and grammar check. \n",
    "\n",
    "Note: this assignment falls under collaboration Mode 2: Individual Assignment – Collaboration Permitted. Please refer to the syllabus for additional information."
   ]
  },
  {
   "cell_type": "markdown",
   "metadata": {},
   "source": [
    "Instructions for all assignments can be found [here](https://kylebradbury.github.io/ids705/notebooks/assignment_instructions.html), and are also linked to from the course syllabus.\n",
    "\n",
    "Total points in the assignment add up to 90; an additional 10 points are allocated to professionalism and presentation quality."
   ]
  },
  {
   "attachments": {},
   "cell_type": "markdown",
   "metadata": {},
   "source": [
    "#  Learning Objectives\n",
    "The purpose of this assignment is to provide a refresher on fundamental concepts that we will use throughout this course and provide an opportunity to develop skills in any of the related skills that may be unfamiliar to you. Through the course of completing this assignment, you will... \n",
    "\n",
    "- Refresh you knowledge of probability theory including properties of random variables, probability density functions,  cumulative distribution functions, and key statistics such as mean and variance.\n",
    "- Revisit common linear algebra and matrix operations and concepts such as matrix multiplication, inner and outer products, inverses, the Hadamard (element-wise) product, eigenvalues and eigenvectors, orthogonality, and symmetry.\n",
    "- Practice numerical programming, core to machine learning, by loading and filtering data, plotting data, vectorizing operations, profiling code speed, and debugging and optimizing performance. You will also practice computing probabilities based on simulation.\n",
    "- Develop or refresh your knowledge of Git version control, which will be a core tool used in the final project of this course\n",
    "- Apply your skills altogether through an exploratory data analysis to practice data cleaning, data manipulation, interpretation, and communication \n",
    "\n",
    "We will build on these concepts throughout the course, so use this assignment as a catalyst to deepen your knowledge and seek help with anything unfamiliar.\n",
    "\n",
    "If some references would be helpful on these topics, I would recommend the following resources:\n",
    "- [Mathematics for Machine Learning](https://mml-book.github.io/book/mml-book.pdf) by Deisenroth, Faisal, and Ong\n",
    "- [Deep Learning](https://www.deeplearningbook.org/); Part I: Applied Math and Machine Learning Basics by Goodfellow, Bengio, and Courville\n",
    "- [The Matrix Calculus You Need For Deep Learning](https://arxiv.org/pdf/1802.01528.pdf) by Parr and Howard\n",
    "- [Dive Into Deep Learning](https://d2l.ai/chapter_appendix-mathematics-for-deep-learning/index.html); Appendix: Mathematics for Deep Learning by Weness, Hu, et al.\n",
    "\n",
    "*Note: don't worry if you don't understand everything in the references above - some of these books dive into significant minutia of each of these topics.*"
   ]
  },
  {
   "attachments": {},
   "cell_type": "markdown",
   "metadata": {},
   "source": [
    "---\n",
    "\n",
    "# Probability and Statistics Theory"
   ]
  },
  {
   "attachments": {},
   "cell_type": "markdown",
   "metadata": {},
   "source": [
    "*Note: for all assignments, write out equations and math using markdown and [LaTeX](https://tobi.oetiker.ch/lshort/lshort.pdf). I recommend that you complete the work on paper before typing up the final version. For this assignment show your math for questions 1-4, meaning that you should include any intermediate steps necessary to understand the logic of your solution. Most can be completed in 3-4 steps. Being proficient in expressing yourself clearly, sometimes mathematically, is a valuable skill to have as a data scientist*"
   ]
  },
  {
   "attachments": {},
   "cell_type": "markdown",
   "metadata": {},
   "source": [
    "## 1\n",
    "**[3 points]**  \n",
    "Let $f(x) = \\begin{cases}\n",
    "                0           & x < 0  \\\\\n",
    "                \\alpha x^2  & 0 \\leq x \\leq 2 \\\\\n",
    "                0           & 2 < x\n",
    "            \\end{cases}$\n",
    "            \n",
    "For what value of $\\alpha$ is $f(x)$ a valid probability density function?"
   ]
  },
  {
   "cell_type": "markdown",
   "metadata": {},
   "source": [
    "**ANSWER**\n",
    "\n",
    "$f(x) = \\alpha x^2$  \n",
    "\n",
    "$\\int_{0}^{2}\\alpha x^2 dx$ = 1\n",
    "\n",
    "$\\alpha \\int_{0}^{2} x^2 dx$ = 1\n",
    "\n",
    "$\\alpha \\int_{0}^{2} x^2 dx$ = $\\alpha \\left(\\frac{1}{3}x^3\\right) \\Big|_0^2$ = 1\n",
    "\n",
    "$\\alpha \\left(\\frac{2^3}{3}\\right) - \\alpha \\left(\\frac{0^3}{3}\\right)$ = 1\n",
    "\n",
    "$\\alpha \\left(\\frac{8}{3}\\right)$ = 1\n",
    "\n",
    "$\\alpha $ = $\\frac{3}{8}$"
   ]
  },
  {
   "attachments": {},
   "cell_type": "markdown",
   "metadata": {},
   "source": [
    "---\n",
    "\n",
    "## 2\n",
    "**[3 points]** What is the cumulative distribution function (CDF) that corresponds to the following probability distribution function? Please state the value of the CDF for all possible values of $x$.\n",
    "\n",
    "$f(x) = \\begin{cases}\n",
    "    \\frac{1}{3} & 0 < x < 3 \\\\\n",
    "    0           & \\text{otherwise}\n",
    "    \\end{cases}$"
   ]
  },
  {
   "cell_type": "markdown",
   "metadata": {},
   "source": [
    "**ANSWER**\n",
    "\n",
    "From ${-\\infty}$ to 0, the density is 0.\n",
    "\n",
    "From $0 < x < 3$, the desity is as follow:\n",
    "\n",
    "$F(x) = \\int_{0}^{x} \\frac{1}{3} \\,dx$\n",
    "\n",
    "$F(x) = \\int_{0}^{x} \\frac{1}{3} \\,dx$\n",
    "\n",
    "$F(x) = \\frac{1}{3} \\left(x\\right) \\Big|_0^x$\n",
    "\n",
    "$F(x) = \\frac{1}{3}x - \\frac{1}{3} \\cdot 0$\n",
    "\n",
    "$F(x) = \\frac{1}{3}x$\n",
    "\n",
    "From 3 to ${\\infty}$, the desity is 1.\n",
    "\n"
   ]
  },
  {
   "attachments": {},
   "cell_type": "markdown",
   "metadata": {},
   "source": [
    "---\n",
    "\n",
    "## 3\n",
    "**[6 points]** For the probability distribution function for the random variable $X$,\n",
    "\n",
    "$f(x) = \\begin{cases}\n",
    "    \\frac{1}{3} & 0 < x < 3 \\\\\n",
    "    0           & \\text{otherwise}\n",
    "    \\end{cases}$\n",
    "    \n",
    "what is the (a) expected value and (b) variance of $X$. *Show all work*."
   ]
  },
  {
   "cell_type": "markdown",
   "metadata": {},
   "source": [
    "**ANSWER**\n",
    "\n",
    "**(a)**\n",
    "\n",
    "The expected value of a continuous random variable $X$ is defined as $E[X] = \\int_{-\\infty}^{\\infty} x f(x) dx$. In our case, we have $E[X] = \\int_{0}^{3} x \\left(\\frac{1}{3}\\right) dx$, so we do not need to consider from $-\\infty$ to 0 or from 3 to $\\infty$ because $f(x) = 0 \\text[othervise]$. In conclusion, the expected value consider the entire range where $f(x)$ is non-zero.\n",
    "\n",
    "$E[X] = \\int_{0}^{3} x \\left(\\frac{1}{3}\\right) dx$\n",
    "\n",
    "\n",
    "$E[X] = \\int_{0}^{3} x \\cdot \\frac{1}{3} \\, dx = \\left[ \\frac{x^2}{6} \\right]_0^3$\n",
    "\n",
    "\n",
    "\n",
    "$E[X] = \\frac{3^2}{6} - \\frac{0^2}{6} = \\frac{3}{2}$\n",
    "\n",
    "\n",
    "\n",
    "**(b)**\n",
    "\n",
    "In order to know $\\text{Var}(X)$, we need to calculate $E[X^2]$ as well:\n",
    "\n",
    "$E[X^2] = \\int_{0}^{3} x^2 \\cdot \\frac{1}{3} \\, dx$\n",
    "\n",
    "$E[X^2] = \\frac{1}{3} \\int_{0}^{3} x^2 \\, dx = \\frac{1}{3} \\left[ \\frac{x^3}{3} \\right]_0^3$\n",
    "\n",
    "$E[X^2] = \\frac{1}{3} \\cdot \\frac{27}{3} = 3$\n",
    "\n",
    "$\\text{Var}(X) = E[X^2] - (E[X])^2$ \n",
    "\n",
    "$\\text{Var}(X) = 3 - (\\frac{3}{2})^2$\n",
    "\n",
    "$\\text{Var}(X) = 3 - 2.25 = 0.75$\n",
    "\n",
    "\n"
   ]
  },
  {
   "cell_type": "markdown",
   "metadata": {},
   "source": [
    "## 4\n",
    "**[6 points]** \n",
    "You are given the training data below and asked to determine the probability that a sample of $x=0.54$ comes from class 1, or equivalently, $P(Y=1|X=0.54)$. The feature, $x$, can take on real values between 0 and 1.\n",
    "\n",
    "| $x$ value range | Negative data samples ($x$,$y=0$) | Positive data samples ($x$,$y=1$) |\n",
    "| -- | -- | -- |\n",
    "| 0.0 - 0.1 | (0.05,0),(0.07,0)|   None   |\n",
    "| 0.1 - 0.2 | (0.11,0),(0.13,0),(0.19,0) | (0.14,1) |\n",
    "| 0.2 - 0.3 | (0.23,0) | (0.24,1) |\n",
    "| 0.3 - 0.4 | (0.35,0), (0.37,0)| (0.32,1) |\n",
    "| 0.4 - 0.5 | (0.49,0) | (0.47,1) |\n",
    "| 0.5 - 0.6 | (0.51,0) | (0.53,1) |\n",
    "| 0.6 - 0.7 |   None   | (0.61,1) |\n",
    "| 0.7 - 0.8 |   None   | (0.77,1) |\n",
    "| 0.8 - 0.9 |   None   | (0.83,1) |\n",
    "| 0.9 - 1.0 |   None   | (0.92,1),(0.98,1) |\n",
    "\n",
    "Note: *You don't need to use these data directly*, but this provides an example of how the data could be distributed to form the empirical likelihoods and priors shown below.\n",
    "\n",
    "You're likely familiar with Bayes' Rule, which for discrete random variables states that:"
   ]
  },
  {
   "cell_type": "markdown",
   "metadata": {},
   "source": [
    "\\begin{equation*}\n",
    "P(Y|X)= \\frac{P(X|Y)P(Y)}{P(X)}\n",
    "\\end{equation*}"
   ]
  },
  {
   "cell_type": "markdown",
   "metadata": {},
   "source": [
    "Additionally, $P(X) = \\sum_y P(X|Y=y)P(Y=y)$"
   ]
  },
  {
   "cell_type": "markdown",
   "metadata": {},
   "source": [
    "In our case, however, the variable Y is discrete but the variable X is continuous, so we express this function a bit differently. We can compute the poster probability, $P(Y|X)$, based on the likelihood function of the data conditioned on the class of the samples, $f_{X|Y}(x,y)$, the prior $P(Y)$ which is essentially the distribution of the class labels across all the data, and the evidence $f_X(x)$ which is the probability distribution function of the features, $X$, regardless of class labels:"
   ]
  },
  {
   "cell_type": "markdown",
   "metadata": {},
   "source": [
    "\n",
    "\\begin{equation*}\n",
    "P(Y=y|X=x)= \\frac{f_{X|Y}(x,y)P(Y=y)}{f_X(x)}\n",
    "\\end{equation*}"
   ]
  },
  {
   "cell_type": "markdown",
   "metadata": {},
   "source": [
    "Also, note that $f_X(x)$ can be computed in this case (due to the discrete Y values of 0 and 1) as:"
   ]
  },
  {
   "cell_type": "markdown",
   "metadata": {},
   "source": [
    "\\begin{equation*}\n",
    "f_X(x) = f_{X|Y}(x,y=0)P(Y=0) + f_{X|Y}(x,y=1)P(Y=1)\n",
    "\\end{equation*}"
   ]
  },
  {
   "cell_type": "markdown",
   "metadata": {},
   "source": [
    "Below are the prior and the likelihood functions based on the dataset above. Note that here we use $P(\\cdot)$ to note a probability and $f(\\cdot)$ to note a probability distribution function."
   ]
  },
  {
   "cell_type": "markdown",
   "metadata": {},
   "source": [
    "<img src=\"img/a1_pxy.png\" width=400>"
   ]
  },
  {
   "cell_type": "markdown",
   "metadata": {},
   "source": [
    "<img src=\"img/a1_py.png\"  width=\"600\">"
   ]
  },
  {
   "cell_type": "markdown",
   "metadata": {},
   "source": [
    "1. What is $f_{X|Y}(x=0.54,y=1)P(Y=1)$?\n",
    "2. What is $f_X(x=0.54)$?\n",
    "3. What is $P(Y=1|X=0.54)$?"
   ]
  },
  {
   "cell_type": "markdown",
   "metadata": {},
   "source": [
    "*Show each value you use for each computation.*"
   ]
  },
  {
   "cell_type": "markdown",
   "metadata": {},
   "source": [
    "**ANSWER**"
   ]
  },
  {
   "cell_type": "markdown",
   "metadata": {},
   "source": [
    "**Question 1**\n",
    "\n",
    "For $f_{X|Y}(x=0.54,y=1)$, I refer the orange line in the first graph at $x=0.54$. For $P(Y=1)$, I also refer to the first graph.\n",
    "\n",
    "$f_{X|Y}(X=0.54|Y=1)P(Y=1) = 1 \\times \\frac{2}{3} = \\frac{2}{3}$"
   ]
  },
  {
   "cell_type": "markdown",
   "metadata": {},
   "source": [
    "**Question 2** \n",
    "\n",
    "To calculate $f_X(x=0.54)$, I use the formula provided: $f_X(x) = f_{X|Y}(x,y=0)P(Y=0) + f_{X|Y}(x,y=1)P(Y=1)$\n",
    "\n",
    "$f_{X|Y}(x=0.54,y=0)P(Y=1) + f_{X|Y}(x=0.54,y=0)P(Y=0) = 1 \\times \\frac{1}{3} =  1 \\times \\frac{2}{3} = 1$"
   ]
  },
  {
   "cell_type": "markdown",
   "metadata": {},
   "source": [
    "**Question 3**\n",
    "\n",
    "In order to compute $P(Y=1|X=0.54)$， need to use Bayes' Rule provided: $P(Y=1|X=0.54)= \\frac{f_{X|Y}(x=0.54,y=1)P(Y=1)}{f_X(x=0.54)} = \\frac{2}{3}$\n",
    "\n"
   ]
  },
  {
   "attachments": {},
   "cell_type": "markdown",
   "metadata": {},
   "source": [
    "---\n",
    "\n",
    "# Linear Algebra"
   ]
  },
  {
   "attachments": {},
   "cell_type": "markdown",
   "metadata": {},
   "source": [
    "# 5\n",
    "\n",
    "**[5 points]** A common task in machine learning is a change of basis: transforming the representation of our data from one space to another. A prime example of this is through the process of dimensionality reduction as in Principle Components Analysis where we often seek to transform our data from one space (of dimension $n$) to a new space (of dimension $m$) where $m<n$. Assume we have a sample of data of dimension $n=4$ (as shown below) and we want to transform it into a dimension of $m=2$.\n",
    "\n",
    "$\\mathbf{x} =  \\begin{bmatrix}\n",
    "x_1 \\\\\n",
    "x_2 \\\\\n",
    "x_3 \\\\\n",
    "x_4 \n",
    "\\end{bmatrix}$"
   ]
  },
  {
   "attachments": {},
   "cell_type": "markdown",
   "metadata": {},
   "source": [
    "(a) What are the dimensions of a matrix, $\\mathbf{A}$, that would linearly transform our sample of data, $\\mathbf{x}$, into a space of $m=2$ through the operation $\\mathbf{Ax}$?\n",
    "\n",
    "(b) Express this transformation in terms of the components of $\\mathbf{x}$: $x_1$, $x_2$, $x_3$, $x_4$ and the matrix $\\mathbf{A}$ where each entry in the matrix is denoted as $a_{i,j}$ (e.g. the entry in the first row and second column would be $a_{1,2}$). Your answer will be in the form of a matrix expressing result of the product $\\mathbf{Ax}$.\n",
    "\n",
    "*Note: please write your answers here in LaTeX*"
   ]
  },
  {
   "attachments": {},
   "cell_type": "markdown",
   "metadata": {},
   "source": [
    "**ANSWER**\n",
    "\n",
    "**(a)**\n",
    "\n",
    "In order to transform a 4 dimentioned column vector to $m = 2$, we need to make matrix $A$ has 2 rows and 4 conlumns.\n",
    "\n",
    "$A = 2 \\times 4$\n",
    "\n",
    "\n",
    "**(b)**\n",
    "\n",
    "The matrix multiplication $\\mathbf{Ax}$ shows as:\n",
    "\n",
    "$\\mathbf{A} =  \\begin{bmatrix}\n",
    "a_{1,1} & a_{1,2} & a_{1,3} & a_{1,4} \\\\\n",
    "a_{2,1} & a_{2,2} & a_{2,3} & a_{2,4} \n",
    "\\end{bmatrix}$\n",
    "\n",
    "\n",
    "$\\mathbf{x} =  \\begin{bmatrix}\n",
    "x_1 \\\\\n",
    "x_2 \\\\\n",
    "x_3 \\\\\n",
    "x_4 \n",
    "\\end{bmatrix}$\n",
    "\n",
    "\n",
    "The product $\\mathbf{Ax}$ shows as:\n",
    "\n",
    "$\\mathbf{Ax} =  \\begin{bmatrix}\n",
    "a_{1,1}x_1 + a_{1,2}x_2 + a_{1,3}x_3 + a_{1,4}x_4 \\\\\n",
    "a_{2,1}x_1 + a_{2,2}x_2 + a_{2,3}x_3 + a_{2,4}x_4 \n",
    "\\end{bmatrix}$\n"
   ]
  },
  {
   "attachments": {},
   "cell_type": "markdown",
   "metadata": {},
   "source": [
    "---\n",
    "\n",
    "## 6\n",
    "**[14 points]** **Matrix manipulations and multiplication**. Machine learning involves working with many matrices, so this exercise will provide you with the opportunity to practice those skills.\n",
    "\n",
    "Let\n",
    "$\\mathbf{A} =  \\begin{bmatrix}\n",
    "1 & 2 & 3 \\\\\n",
    "2 & 4 & 5 \\\\\n",
    "3 & 5 & 6 \n",
    "\\end{bmatrix}$, $\\mathbf{b} =  \\begin{bmatrix}\n",
    "-1  \\\\\n",
    "3  \\\\\n",
    "8  \n",
    "\\end{bmatrix}$, $\\mathbf{c} =  \\begin{bmatrix}\n",
    "4  \\\\\n",
    "-3  \\\\\n",
    "6  \n",
    "\\end{bmatrix}$, and $\\mathbf{I} =  \\begin{bmatrix}\n",
    "1 & 0 & 0 \\\\\n",
    "0 & 1 & 0 \\\\\n",
    "0 & 0 & 1 \n",
    "\\end{bmatrix}$\n",
    "\n",
    "Compute the following **using Python** or indicate that it cannot be computed. Refer to NumPy's tools for handling matrices. While all answers should be computer using Python, your response to whether each item can be computed should refer to underlying linear algebra. There may be circumstances when Python will produce an output, but based on the dimensions of the matrices involved, the linear algebra operation is not possible. **For the case when an operation is invalid, explain why it is not.**\n",
    "\n",
    "When the quantity can be computed, please provide both the Python code AND the output of that code (this need not be in LaTex)\n",
    "\n",
    "1. $\\mathbf{A}\\mathbf{A}$\n",
    "2. $\\mathbf{A}\\mathbf{A}^T$\n",
    "3. $\\mathbf{A}\\mathbf{b}$\n",
    "4. $\\mathbf{A}\\mathbf{b}^T$\n",
    "5. $\\mathbf{b}\\mathbf{A}$\n",
    "6. $\\mathbf{b}^T\\mathbf{A}$\n",
    "7. $\\mathbf{b}\\mathbf{b}$\n",
    "8. $\\mathbf{b}^T\\mathbf{b}$\n",
    "9. $\\mathbf{b}\\mathbf{b}^T$\n",
    "10. $\\mathbf{b} + \\mathbf{c}^T$\n",
    "11. $\\mathbf{b}^T\\mathbf{b}^T$\n",
    "12. $\\mathbf{A}^{-1}\\mathbf{b}$\n",
    "13. $\\mathbf{A}\\circ\\mathbf{A}$\n",
    "14. $\\mathbf{b}\\circ\\mathbf{c}$\n",
    "\n",
    "*Note: The element-wise (or Hadamard) product is the product of each element in one matrix with the corresponding element in another matrix, and is represented by the symbol \"$\\circ$\".*"
   ]
  },
  {
   "cell_type": "markdown",
   "metadata": {},
   "source": [
    "**ANSWER**"
   ]
  },
  {
   "cell_type": "markdown",
   "metadata": {},
   "source": [
    "1. $\\mathbf{A}\\mathbf{A}$"
   ]
  },
  {
   "cell_type": "code",
   "execution_count": 38,
   "metadata": {},
   "outputs": [
    {
     "name": "stdout",
     "output_type": "stream",
     "text": [
      "[[14 25 31]\n",
      " [25 45 56]\n",
      " [31 56 70]]\n"
     ]
    }
   ],
   "source": [
    "import numpy as np\n",
    "\n",
    "A = np.array([[1, 2, 3], [2, 4, 5], [3, 5, 6]])\n",
    "b = np.array([[-1], [3], [8]])\n",
    "c = np.array([[4], [-3], [6]])\n",
    "\n",
    "AA = np.dot(A, A)\n",
    "print(AA)"
   ]
  },
  {
   "cell_type": "markdown",
   "metadata": {},
   "source": [
    "2. $\\mathbf{A}\\mathbf{A}^T$"
   ]
  },
  {
   "cell_type": "code",
   "execution_count": 39,
   "metadata": {},
   "outputs": [
    {
     "data": {
      "text/plain": [
       "array([[14, 25, 31],\n",
       "       [25, 45, 56],\n",
       "       [31, 56, 70]])"
      ]
     },
     "execution_count": 39,
     "metadata": {},
     "output_type": "execute_result"
    }
   ],
   "source": [
    "np.dot(A, A.T)"
   ]
  },
  {
   "cell_type": "markdown",
   "metadata": {},
   "source": [
    "3. $\\mathbf{A}\\mathbf{b}$"
   ]
  },
  {
   "cell_type": "code",
   "execution_count": 40,
   "metadata": {},
   "outputs": [
    {
     "data": {
      "text/plain": [
       "array([[29],\n",
       "       [50],\n",
       "       [60]])"
      ]
     },
     "execution_count": 40,
     "metadata": {},
     "output_type": "execute_result"
    }
   ],
   "source": [
    "np.dot(A, b)"
   ]
  },
  {
   "cell_type": "markdown",
   "metadata": {},
   "source": [
    "4. $\\mathbf{A}\\mathbf{b}^T$\n",
    "\n",
    "A 1 $\\times$ 3 matrix cannot multiply with a 3 $\\times$ 3 matrix. In this case, this matrix does not match the rule of linear algebra."
   ]
  },
  {
   "cell_type": "markdown",
   "metadata": {},
   "source": [
    "5. $\\mathbf{b}\\mathbf{A}$\n",
    "\n",
    "1 for $\\mathbf{A}$, and 3 for $\\mathbf{b}$ do not match the rule of linear algebra."
   ]
  },
  {
   "cell_type": "markdown",
   "metadata": {},
   "source": [
    "6. $\\mathbf{b}^T\\mathbf{A}$"
   ]
  },
  {
   "cell_type": "code",
   "execution_count": 41,
   "metadata": {},
   "outputs": [
    {
     "data": {
      "text/plain": [
       "array([[29, 50, 60]])"
      ]
     },
     "execution_count": 41,
     "metadata": {},
     "output_type": "execute_result"
    }
   ],
   "source": [
    "np.dot(b.T, A)"
   ]
  },
  {
   "cell_type": "markdown",
   "metadata": {},
   "source": [
    "7. $\\mathbf{b}\\mathbf{b}$\n",
    "\n",
    "A 3 $\\times$ 1 vector cannot multiply with another 3 $\\times$ 1 vector. In this case, this vector does not match the rule of linear algebra."
   ]
  },
  {
   "cell_type": "markdown",
   "metadata": {},
   "source": [
    "8. $\\mathbf{b}^T\\mathbf{b}$"
   ]
  },
  {
   "cell_type": "code",
   "execution_count": 42,
   "metadata": {},
   "outputs": [
    {
     "data": {
      "text/plain": [
       "array([[74]])"
      ]
     },
     "execution_count": 42,
     "metadata": {},
     "output_type": "execute_result"
    }
   ],
   "source": [
    "np.dot(b.T, b)"
   ]
  },
  {
   "cell_type": "markdown",
   "metadata": {},
   "source": [
    "9. $\\mathbf{b}\\mathbf{b}^T$"
   ]
  },
  {
   "cell_type": "code",
   "execution_count": 43,
   "metadata": {},
   "outputs": [
    {
     "data": {
      "text/plain": [
       "array([[ 1, -3, -8],\n",
       "       [-3,  9, 24],\n",
       "       [-8, 24, 64]])"
      ]
     },
     "execution_count": 43,
     "metadata": {},
     "output_type": "execute_result"
    }
   ],
   "source": [
    "np.dot(b, b.T)"
   ]
  },
  {
   "cell_type": "markdown",
   "metadata": {},
   "source": [
    "10. $\\mathbf{b} + \\mathbf{c}^T$\n",
    "\n",
    "$\\mathbf{b}$ is a 3 $\\times$ 1 vector, but $\\mathbf{c}^T$ is a 1 $\\times$ 3 matrix. In this case, this matrix does not match the rule of linear algebra."
   ]
  },
  {
   "cell_type": "markdown",
   "metadata": {},
   "source": [
    "11. $\\mathbf{b}^T\\mathbf{b}^T$\n",
    "\n",
    "$\\mathbf{b}^T$ is a 1 $\\times$ 3 matrix, so $\\mathbf{b}^T\\mathbf{b}^T$ means $\\mathbf{b}^T$ multiply themself. However, the first $\\mathbf{b}^T$ has 3 columns, the second one has 1 row. In this case, this matrix does not match the key rule is that the number of columns in the first matrix must match the number of rows in the second matrix. "
   ]
  },
  {
   "cell_type": "markdown",
   "metadata": {},
   "source": [
    "12. $\\mathbf{A}^{-1}\\mathbf{b}$\n",
    "\n",
    "\n",
    "\n"
   ]
  },
  {
   "cell_type": "code",
   "execution_count": 44,
   "metadata": {},
   "outputs": [
    {
     "data": {
      "text/plain": [
       "array([[ 6.],\n",
       "       [ 4.],\n",
       "       [-5.]])"
      ]
     },
     "execution_count": 44,
     "metadata": {},
     "output_type": "execute_result"
    }
   ],
   "source": [
    "if np.linalg.det(A) != 0:\n",
    "    result = np.dot(np.linalg.inv(A), b)\n",
    "else:\n",
    "    None\n",
    "result"
   ]
  },
  {
   "cell_type": "markdown",
   "metadata": {},
   "source": [
    "13. $\\mathbf{A}\\circ\\mathbf{A}$"
   ]
  },
  {
   "cell_type": "code",
   "execution_count": 45,
   "metadata": {},
   "outputs": [
    {
     "data": {
      "text/plain": [
       "array([[ 1,  4,  9],\n",
       "       [ 4, 16, 25],\n",
       "       [ 9, 25, 36]])"
      ]
     },
     "execution_count": 45,
     "metadata": {},
     "output_type": "execute_result"
    }
   ],
   "source": [
    "np.multiply(A, A)"
   ]
  },
  {
   "cell_type": "markdown",
   "metadata": {},
   "source": [
    "14. $\\mathbf{b}\\circ\\mathbf{c}$"
   ]
  },
  {
   "cell_type": "code",
   "execution_count": 46,
   "metadata": {},
   "outputs": [
    {
     "data": {
      "text/plain": [
       "array([[-4],\n",
       "       [-9],\n",
       "       [48]])"
      ]
     },
     "execution_count": 46,
     "metadata": {},
     "output_type": "execute_result"
    }
   ],
   "source": [
    "np.multiply(b, c)"
   ]
  },
  {
   "attachments": {},
   "cell_type": "markdown",
   "metadata": {},
   "source": [
    "---\n",
    "\n",
    "## 7\n",
    "**[8 points]** **Eigenvectors and eigenvalues**. Eigenvectors and eigenvalues are useful for some machine learning algorithms, but the concepts take time to solidly grasp. They are used extensively in machine learning and in this course we will encounter them in relation to Principal Components Analysis (PCA), clustering algorithms, For an intuitive review of these concepts, explore this [interactive website at Setosa.io](http://setosa.io/ev/eigenvectors-and-eigenvalues/). Also, the series of linear algebra videos by Grant Sanderson of 3Brown1Blue are excellent and can be viewed on youtube [here](https://www.youtube.com/playlist?list=PLZHQObOWTQDPD3MizzM2xVFitgF8hE_ab). For these questions, numpy may once again be helpful.\n",
    "\n",
    "1. Calculate the eigenvalues and corresponding eigenvectors of matrix $\\mathbf{A}$ above, from the last question.\n",
    "2. Choose one of the eigenvector/eigenvalue pairs, $\\mathbf{v}$ and $\\lambda$, and show that $\\mathbf{A} \\mathbf{v} = \\lambda \\mathbf{v}$. This relationship extends to higher orders: $\\mathbf{A} \\mathbf{A} \\mathbf{v} = \\lambda^2 \\mathbf{v}$\n",
    "3. Show that the eigenvectors are orthogonal to one another (e.g. their inner product is zero). This is true for eigenvectors from real, symmetric matrices. In three dimensions or less, this means that the eigenvectors are perpendicular to each other. Typically we use the orthogonal basis of our standard x, y, and z, Cartesian coordinates, which allows us, if we combine them linearly, to represent any point in a 3D space. But any three orthogonal vectors can do the same. We will see this property is used in PCA to identify the dimensions of greatest variation in our data when we discuss dimensionality reduction."
   ]
  },
  {
   "cell_type": "markdown",
   "metadata": {},
   "source": [
    "**ANSWER**"
   ]
  },
  {
   "cell_type": "code",
   "execution_count": 92,
   "metadata": {},
   "outputs": [
    {
     "name": "stdout",
     "output_type": "stream",
     "text": [
      "Eigenvalues: [11.34481428 -0.51572947  0.17091519]\n",
      "Eigenvectors: [[-0.32798528 -0.73697623  0.59100905]\n",
      " [-0.59100905 -0.32798528 -0.73697623]\n",
      " [-0.73697623  0.59100905  0.32798528]]\n"
     ]
    }
   ],
   "source": [
    "# Question 1: Calculate the eigenvalues and corresponding eigenvectors of matrix\n",
    "\n",
    "A = np.array([[1, 2, 3], [2, 4, 5], [3, 5, 6]])\n",
    "eig = np.linalg.eig(A)\n",
    "\n",
    "eigenvalues = eig[0]\n",
    "eigenvectors = eig[1]\n",
    "\n",
    "print(\"Eigenvalues:\", eigenvalues)\n",
    "print(\"Eigenvectors:\", eigenvectors)"
   ]
  },
  {
   "cell_type": "markdown",
   "metadata": {},
   "source": [
    "2. Verify $\\mathbf{A} \\mathbf{v} = \\lambda \\mathbf{v}$"
   ]
  },
  {
   "cell_type": "code",
   "execution_count": 48,
   "metadata": {},
   "outputs": [
    {
     "data": {
      "text/plain": [
       "True"
      ]
     },
     "execution_count": 48,
     "metadata": {},
     "output_type": "execute_result"
    }
   ],
   "source": [
    "# Question 2\n",
    "\n",
    "# choose the first eigenvector\n",
    "v = eigenvectors[:, 0]\n",
    "\n",
    "# corresponding eigenvalue\n",
    "lambda_ = eigenvalues[0]\n",
    "\n",
    "# verify\n",
    "left_side = np.dot(A, v)\n",
    "right_side = lambda_ * v\n",
    "\n",
    "# see whether or not left is approximately equal to right\n",
    "np.allclose(left_side, right_side)"
   ]
  },
  {
   "cell_type": "code",
   "execution_count": 49,
   "metadata": {},
   "outputs": [
    {
     "data": {
      "text/plain": [
       "True"
      ]
     },
     "execution_count": 49,
     "metadata": {},
     "output_type": "execute_result"
    }
   ],
   "source": [
    "# Question 3: Show that the eigenvectors are orthogonal to one another\n",
    "\n",
    "v1 = eigenvectors[:, 0]\n",
    "v2 = eigenvectors[:, 1]\n",
    "v3 = eigenvectors[:, 2]\n",
    "\n",
    "# see whether or dot products are 0 (or close to 0)\n",
    "dot_product_12 = np.dot(v1, v2)\n",
    "dot_product_13 = np.dot(v1, v3)\n",
    "dot_product_23 = np.dot(v2, v3)\n",
    "\n",
    "np.allclose(dot_product_12, 0)\n",
    "np.allclose(dot_product_13, 0)\n",
    "np.allclose(dot_product_23, 0)"
   ]
  },
  {
   "attachments": {},
   "cell_type": "markdown",
   "metadata": {},
   "source": [
    "---\n",
    "\n",
    "# Numerical Programming"
   ]
  },
  {
   "attachments": {},
   "cell_type": "markdown",
   "metadata": {},
   "source": [
    "## 8\n",
    "**[10 points]** Loading data and gathering insights from a real dataset\n",
    "\n",
    "In data science, we often need to have a sense of the idiosyncrasies of the data, how they relate to the questions we are trying to answer, and to use that information to help us to determine what approach, such as machine learning, we may need to apply to achieve our goal. This exercise provides practice in exploring a dataset and answering question that might arise from applications related to the data.\n",
    "\n",
    "**Data**. The data for this problem can be found in the `data` subfolder in the `assignments` folder on [github](https://github.com/kylebradbury/ids705). The filename is `a1_egrid2016.xlsx`. This dataset is the Environmental Protection Agency's (EPA) [Emissions & Generation Resource Integrated Database (eGRID)](https://www.epa.gov/energy/emissions-generation-resource-integrated-database-egrid) containing information about all power plants in the United States, the amount of generation they produce, what fuel they use, the location of the plant, and many more quantities. We'll be using a subset of those data.\n",
    "\n",
    "The fields we'll be using include:\t\t\t\t\t\n",
    "    \n",
    "|field    |description|\n",
    "|:-----   |:-----|\n",
    "|SEQPLT16 |eGRID2016 Plant file sequence number (the index)| \n",
    "|PSTATABB |Plant state abbreviation|\n",
    "|PNAME    |Plant name |\n",
    "|LAT      |Plant latitude |\n",
    "|LON      |Plant longitude|\n",
    "|PLPRMFL  |Plant primary fuel |\n",
    "|CAPFAC   |Plant capacity factor |\n",
    "|NAMEPCAP |Plant nameplate capacity (Megawatts MW)|\n",
    "|PLNGENAN |Plant annual net generation (Megawatt-hours MWh)|\n",
    "|PLCO2EQA |Plant annual CO2 equivalent emissions (tons)|\n",
    "\n",
    "For more details on the data, you can refer to the [eGrid technical documents](https://www.epa.gov/sites/default/files/2021-02/documents/egrid2019_technical_guide.pdf). For example, you may want to review page 45 and the section \"Plant Primary Fuel (PLPRMFL)\", which gives the full names of the fuel types including WND for wind, NG for natural gas, BIT for Bituminous coal, etc.\n",
    "\n",
    "There also are a couple of \"gotchas\" to watch out for with this dataset:\n",
    "- The headers are on the second row and you'll want to ignore the first row (they're more detailed descriptions of the headers).\n",
    "- NaN values represent blanks in the data. These will appear regularly in real-world data, so getting experience working with these sorts of missing values will be important.\n",
    "\n",
    "**Your objective**. For this dataset, your goal is to answer the following questions about electricity generation in the United States:\n",
    "\n",
    "**(a)** Which plant has generated the most energy (measured in MWh)?\n",
    "\n",
    "**(b)** What is the name of the northern-most power plant in the United States?\n",
    "\n",
    "**(c)** What is the state where the northern-most power plant in the United States is located?\n",
    "\n",
    "**(d)** Plot a bar plot showing the amount of energy produced by each fuel type across all plants. \n",
    "\n",
    "**(e)** From the plot in (d), which fuel for generation produces the most energy (MWh) in the United States?"
   ]
  },
  {
   "cell_type": "markdown",
   "metadata": {},
   "source": [
    "**ANSWER**"
   ]
  },
  {
   "cell_type": "code",
   "execution_count": 93,
   "metadata": {},
   "outputs": [
    {
     "data": {
      "text/html": [
       "<div>\n",
       "<style scoped>\n",
       "    .dataframe tbody tr th:only-of-type {\n",
       "        vertical-align: middle;\n",
       "    }\n",
       "\n",
       "    .dataframe tbody tr th {\n",
       "        vertical-align: top;\n",
       "    }\n",
       "\n",
       "    .dataframe thead th {\n",
       "        text-align: right;\n",
       "    }\n",
       "</style>\n",
       "<table border=\"1\" class=\"dataframe\">\n",
       "  <thead>\n",
       "    <tr style=\"text-align: right;\">\n",
       "      <th></th>\n",
       "      <th>SEQPLT16</th>\n",
       "      <th>PSTATABB</th>\n",
       "      <th>PNAME</th>\n",
       "      <th>LAT</th>\n",
       "      <th>LON</th>\n",
       "      <th>PLPRMFL</th>\n",
       "      <th>CAPFAC</th>\n",
       "      <th>NAMEPCAP</th>\n",
       "      <th>PLNGENAN</th>\n",
       "      <th>PLCO2EQA</th>\n",
       "    </tr>\n",
       "  </thead>\n",
       "  <tbody>\n",
       "    <tr>\n",
       "      <th>0</th>\n",
       "      <td>1</td>\n",
       "      <td>AK</td>\n",
       "      <td>7-Mile Ridge Wind Project</td>\n",
       "      <td>63.210689</td>\n",
       "      <td>-143.247156</td>\n",
       "      <td>WND</td>\n",
       "      <td>NaN</td>\n",
       "      <td>1.8</td>\n",
       "      <td>NaN</td>\n",
       "      <td>NaN</td>\n",
       "    </tr>\n",
       "    <tr>\n",
       "      <th>1</th>\n",
       "      <td>2</td>\n",
       "      <td>AK</td>\n",
       "      <td>Agrium Kenai Nitrogen Operations</td>\n",
       "      <td>60.673200</td>\n",
       "      <td>-151.378400</td>\n",
       "      <td>NG</td>\n",
       "      <td>NaN</td>\n",
       "      <td>21.6</td>\n",
       "      <td>NaN</td>\n",
       "      <td>NaN</td>\n",
       "    </tr>\n",
       "    <tr>\n",
       "      <th>2</th>\n",
       "      <td>3</td>\n",
       "      <td>AK</td>\n",
       "      <td>Alakanuk</td>\n",
       "      <td>62.683300</td>\n",
       "      <td>-164.654400</td>\n",
       "      <td>DFO</td>\n",
       "      <td>0.05326</td>\n",
       "      <td>2.6</td>\n",
       "      <td>1213.001</td>\n",
       "      <td>1049.863</td>\n",
       "    </tr>\n",
       "    <tr>\n",
       "      <th>3</th>\n",
       "      <td>4</td>\n",
       "      <td>AK</td>\n",
       "      <td>Allison Creek Hydro</td>\n",
       "      <td>61.084444</td>\n",
       "      <td>-146.353333</td>\n",
       "      <td>WAT</td>\n",
       "      <td>0.01547</td>\n",
       "      <td>6.5</td>\n",
       "      <td>881.000</td>\n",
       "      <td>0.000</td>\n",
       "    </tr>\n",
       "    <tr>\n",
       "      <th>4</th>\n",
       "      <td>5</td>\n",
       "      <td>AK</td>\n",
       "      <td>Ambler</td>\n",
       "      <td>67.087980</td>\n",
       "      <td>-157.856719</td>\n",
       "      <td>DFO</td>\n",
       "      <td>0.13657</td>\n",
       "      <td>1.1</td>\n",
       "      <td>1315.999</td>\n",
       "      <td>1087.881</td>\n",
       "    </tr>\n",
       "  </tbody>\n",
       "</table>\n",
       "</div>"
      ],
      "text/plain": [
       "   SEQPLT16 PSTATABB                             PNAME        LAT         LON  \\\n",
       "0         1       AK         7-Mile Ridge Wind Project  63.210689 -143.247156   \n",
       "1         2       AK  Agrium Kenai Nitrogen Operations  60.673200 -151.378400   \n",
       "2         3       AK                          Alakanuk  62.683300 -164.654400   \n",
       "3         4       AK               Allison Creek Hydro  61.084444 -146.353333   \n",
       "4         5       AK                            Ambler  67.087980 -157.856719   \n",
       "\n",
       "  PLPRMFL   CAPFAC  NAMEPCAP  PLNGENAN  PLCO2EQA  \n",
       "0     WND      NaN       1.8       NaN       NaN  \n",
       "1      NG      NaN      21.6       NaN       NaN  \n",
       "2     DFO  0.05326       2.6  1213.001  1049.863  \n",
       "3     WAT  0.01547       6.5   881.000     0.000  \n",
       "4     DFO  0.13657       1.1  1315.999  1087.881  "
      ]
     },
     "execution_count": 93,
     "metadata": {},
     "output_type": "execute_result"
    }
   ],
   "source": [
    "import pandas as pd\n",
    "\n",
    "# pip install openpyx1\n",
    "# load the dataset\n",
    "\n",
    "file_path = \"a1_egrid2016.xlsx\"\n",
    "data = pd.read_excel(file_path, header=1)\n",
    "data.head()"
   ]
  },
  {
   "cell_type": "code",
   "execution_count": 51,
   "metadata": {},
   "outputs": [
    {
     "name": "stdout",
     "output_type": "stream",
     "text": [
      "SEQPLT16             391\n",
      "PSTATABB              AZ\n",
      "PNAME         Palo Verde\n",
      "LAT              33.3881\n",
      "LON            -112.8617\n",
      "PLPRMFL              NUC\n",
      "CAPFAC           0.87801\n",
      "NAMEPCAP          4209.6\n",
      "PLNGENAN    32377476.999\n",
      "PLCO2EQA             0.0\n",
      "Name: 390, dtype: object\n"
     ]
    }
   ],
   "source": [
    "# Question (a)\n",
    "\n",
    "most_energy_plant = data.loc[data[\"PLNGENAN\"].idxmax()]\n",
    "print(most_energy_plant)"
   ]
  },
  {
   "cell_type": "code",
   "execution_count": 52,
   "metadata": {},
   "outputs": [
    {
     "name": "stdout",
     "output_type": "stream",
     "text": [
      "SEQPLT16          12\n",
      "PSTATABB          AK\n",
      "PNAME         Barrow\n",
      "LAT           71.292\n",
      "LON        -156.7786\n",
      "PLPRMFL           NG\n",
      "CAPFAC       0.28208\n",
      "NAMEPCAP        20.3\n",
      "PLNGENAN     50162.0\n",
      "PLCO2EQA    44205.17\n",
      "Name: 11, dtype: object\n"
     ]
    }
   ],
   "source": [
    "# Question (b)\n",
    "\n",
    "northernmost_plant = data.loc[data[\"LAT\"].idxmax()]\n",
    "print(northernmost_plant)"
   ]
  },
  {
   "cell_type": "code",
   "execution_count": 53,
   "metadata": {},
   "outputs": [
    {
     "name": "stdout",
     "output_type": "stream",
     "text": [
      "AK\n"
     ]
    }
   ],
   "source": [
    "# Question (c)\n",
    "\n",
    "northernmost_state = northernmost_plant[\"PSTATABB\"]\n",
    "print(northernmost_state)"
   ]
  },
  {
   "cell_type": "code",
   "execution_count": 54,
   "metadata": {},
   "outputs": [
    {
     "data": {
      "image/png": "[encoded data removed]",
      "text/plain": [
       "<Figure size 640x480 with 1 Axes>"
      ]
     },
     "metadata": {},
     "output_type": "display_data"
    }
   ],
   "source": [
    "# Question (d)\n",
    "\n",
    "import matplotlib.pyplot as plt\n",
    "\n",
    "# groupby fuel type and sum energy generation\n",
    "fuel_type_energy = data.groupby(\"PLPRMFL\")[\"PLNGENAN\"].sum()\n",
    "\n",
    "# plot\n",
    "fuel_type_energy.plot(kind=\"bar\")\n",
    "plt.title(\"Energy Produced by Each Fuel Type\")\n",
    "plt.xlabel(\"Fuel Type\")\n",
    "plt.ylabel(\"Total Energy (MWh)\")\n",
    "plt.show()"
   ]
  },
  {
   "cell_type": "code",
   "execution_count": 55,
   "metadata": {},
   "outputs": [
    {
     "name": "stdout",
     "output_type": "stream",
     "text": [
      "NG\n"
     ]
    }
   ],
   "source": [
    "# Question (e)\n",
    "\n",
    "max_energy_fuel = fuel_type_energy.idxmax()\n",
    "print(max_energy_fuel)"
   ]
  },
  {
   "attachments": {},
   "cell_type": "markdown",
   "metadata": {},
   "source": [
    "---\n",
    "\n",
    "## 9\n",
    "**[6 points]** *Vectorization*. When we first learn to code and think about iterating over an array, we often use loops. If implemented correctly, that does the trick. In machine learning, we iterate over so much data that those loops can lead to significant slow downs if they are not computationally efficient. In Python, vectorizing code and relying on matrix operations with efficient tools like numpy is typically the faster approach. Of course, numpy relies on loops to complete the computation, but this is at a lower level of programming (typically in C), and therefore is much more efficient. This exercise will explore the benefits of vectorization. Since many machine learning techniques rely on matrix operations, it's helpful to begin thinking about implementing algorithms using vector forms.\n",
    "\n",
    "Begin by creating an array of 10 million random numbers using the numpy `random.randn` module. Compute the sum of the squares of those random numbers first in a for loop, then using Numpy's `dot` module to perform an inner (dot) product. Verify that your code produces the same output in each case. Time how long it takes to compute each and report the results and report the output. How many times faster is the vectorized code than the for loop approach? (Note - your results may vary from run to run).\n",
    "\n",
    "Your output should use the `print()` function as follows (where the # symbols represent your answers, to a reasonable precision of 4-5 significant figures):\n",
    "\n",
    "`Time [sec] (non-vectorized): ######`\n",
    "\n",
    "`Time [sec] (vectorized):     ######`\n",
    "\n",
    "`The vectorized code is ##### times faster than the nonvectorized code`"
   ]
  },
  {
   "cell_type": "markdown",
   "metadata": {},
   "source": [
    "**ANSWER**"
   ]
  },
  {
   "cell_type": "code",
   "execution_count": 88,
   "metadata": {},
   "outputs": [
    {
     "name": "stdout",
     "output_type": "stream",
     "text": [
      "Time [sec] (non-vectorized): 1.0065598487854004\n"
     ]
    }
   ],
   "source": [
    "import time\n",
    "\n",
    "# create a random array of 10 million numbers\n",
    "random_nums = np.random.randn(10000000)\n",
    "\n",
    "# sum of squares using a for loop\n",
    "# start\n",
    "start_time = time.time()\n",
    "sum_squares_loop = 0\n",
    "for number in random_nums:\n",
    "    sum_squares_loop += number**2\n",
    "\n",
    "# end\n",
    "end_time = time.time()\n",
    "\n",
    "# calculate elapsed time\n",
    "time_non_vectorized = end_time - start_time\n",
    "\n",
    "print(\"Time [sec] (non-vectorized):\", time_non_vectorized)"
   ]
  },
  {
   "cell_type": "code",
   "execution_count": 89,
   "metadata": {},
   "outputs": [
    {
     "name": "stdout",
     "output_type": "stream",
     "text": [
      "Time [sec] (vectorized):     0.01497197151184082\n"
     ]
    }
   ],
   "source": [
    "# sum of squares using vectorized code (dot product)\n",
    "\n",
    "# start\n",
    "start_time = time.time()\n",
    "sum_squares_vectorized = np.dot(random_nums, random_nums)\n",
    "\n",
    "# end\n",
    "end_time = time.time()\n",
    "\n",
    "# Calculate elapsed time\n",
    "time_vectorized = end_time - start_time\n",
    "\n",
    "print(\"Time [sec] (vectorized):    \", time_vectorized)"
   ]
  },
  {
   "cell_type": "code",
   "execution_count": 90,
   "metadata": {},
   "outputs": [
    {
     "name": "stdout",
     "output_type": "stream",
     "text": [
      "The vectorized code is 67.22961287959616 times faster than the non-vectorized code\n"
     ]
    }
   ],
   "source": [
    "# compare the speeds\n",
    "speedup = time_non_vectorized / time_vectorized\n",
    "print(\"The vectorized code is\", speedup, \"times faster than the non-vectorized code\")"
   ]
  },
  {
   "cell_type": "code",
   "execution_count": 91,
   "metadata": {},
   "outputs": [
    {
     "name": "stdout",
     "output_type": "stream",
     "text": [
      "Are the results the same: True\n"
     ]
    }
   ],
   "source": [
    "# verify that both results are the same\n",
    "print(\n",
    "    \"Are the results the same:\", np.allclose(sum_squares_loop, sum_squares_vectorized)\n",
    ")"
   ]
  },
  {
   "attachments": {},
   "cell_type": "markdown",
   "metadata": {},
   "source": [
    "---\n",
    "\n",
    "## 10\n",
    "**[10 points]** This exercise will walk through some basic numerical programming and probabilistic thinking exercises, two skills which are frequently used in machine learning for answering questions from our data.\n",
    "1. Synthesize $n=10^4$ normally distributed data points with mean $\\mu=2$ and a standard deviation of $\\sigma=1$. Call these observations from a random variable $X$, and call the vector of observations that you generate, $\\textbf{x}$.\n",
    "2. Calculate the mean and standard deviation of $\\textbf{x}$ to validate (1) and provide the result to a precision of four significant figures.\n",
    "3. Plot a histogram of the data in $\\textbf{x}$ with 30 bins\n",
    "4. What is the 90th percentile of $\\textbf{x}$? The 90th percentile is the value below which 90% of observations can be found.\n",
    "5. What is the 99th percentile of $\\textbf{x}$?\n",
    "6. Now synthesize $n=10^4$ normally distributed data points with mean $\\mu=0$ and a standard deviation of $\\sigma=3$. Call these observations from a random variable $Y$, and call the vector of observations that you generate, $\\textbf{y}$.\n",
    "7. Create a new figure and plot the histogram of the data in $\\textbf{y}$ on the same axes with the histogram of $\\textbf{x}$, so that both histograms can be seen and compared.\n",
    "8. Using the observations from $\\textbf{x}$ and $\\textbf{y}$, estimate $E[XY]$"
   ]
  },
  {
   "cell_type": "markdown",
   "metadata": {},
   "source": [
    "**ANSWER**"
   ]
  },
  {
   "cell_type": "code",
   "execution_count": 60,
   "metadata": {},
   "outputs": [],
   "source": [
    "# Question 1\n",
    "\n",
    "n = 10000\n",
    "mu_x = 2\n",
    "sigma_x = 1\n",
    "x = np.random.normal(mu_x, sigma_x, n)"
   ]
  },
  {
   "cell_type": "code",
   "execution_count": 61,
   "metadata": {},
   "outputs": [
    {
     "name": "stdout",
     "output_type": "stream",
     "text": [
      "2.014\n",
      "1.0031\n"
     ]
    }
   ],
   "source": [
    "# Question 2\n",
    "\n",
    "mean_x = np.mean(x)\n",
    "std_dev_x = np.std(x)\n",
    "\n",
    "print(round(mean_x, 4))\n",
    "print(round(std_dev_x, 4))"
   ]
  },
  {
   "cell_type": "code",
   "execution_count": 62,
   "metadata": {},
   "outputs": [
    {
     "data": {
      "image/png": "[encoded data removed]",
      "text/plain": [
       "<Figure size 640x480 with 1 Axes>"
      ]
     },
     "metadata": {},
     "output_type": "display_data"
    }
   ],
   "source": [
    "# Question 3\n",
    "\n",
    "# set a style\n",
    "plt.style.use(\"ggplot\")\n",
    "\n",
    "# create the histogram\n",
    "plt.hist(x, bins=30, color=\"blue\", edgecolor=\"black\", alpha=0.7)\n",
    "\n",
    "# add grid, title, and labels\n",
    "plt.grid(axis=\"y\", alpha=0.75)\n",
    "plt.title(\"Histogram of x\", fontsize=15)\n",
    "plt.xlabel(\"Value\", fontsize=12)\n",
    "plt.ylabel(\"Frequency\", fontsize=12)\n",
    "\n",
    "\n",
    "plt.show()"
   ]
  },
  {
   "cell_type": "code",
   "execution_count": 63,
   "metadata": {},
   "outputs": [
    {
     "name": "stdout",
     "output_type": "stream",
     "text": [
      "3.301093891177147\n"
     ]
    }
   ],
   "source": [
    "# Question 4\n",
    "\n",
    "percentile_90_x = np.percentile(x, 90)\n",
    "print(percentile_90_x)"
   ]
  },
  {
   "cell_type": "code",
   "execution_count": 64,
   "metadata": {},
   "outputs": [
    {
     "name": "stdout",
     "output_type": "stream",
     "text": [
      "4.310929321940595\n"
     ]
    }
   ],
   "source": [
    "# Question 5\n",
    "\n",
    "percentile_99_x = np.percentile(x, 99)\n",
    "print(percentile_99_x)"
   ]
  },
  {
   "cell_type": "code",
   "execution_count": 65,
   "metadata": {},
   "outputs": [],
   "source": [
    "# Question 6\n",
    "\n",
    "mu_y = 0\n",
    "sigma_y = 3\n",
    "y = np.random.normal(mu_y, sigma_y, n)"
   ]
  },
  {
   "cell_type": "code",
   "execution_count": 66,
   "metadata": {},
   "outputs": [
    {
     "data": {
      "image/png": "[encoded data removed]",
      "text/plain": [
       "<Figure size 640x480 with 1 Axes>"
      ]
     },
     "metadata": {},
     "output_type": "display_data"
    }
   ],
   "source": [
    "# Question 7\n",
    "\n",
    "plt.hist(x, bins=30, alpha=0.5, label=\"x\")\n",
    "plt.hist(y, bins=30, alpha=0.5, label=\"y\")\n",
    "plt.title(\"Histograms of x and y\")\n",
    "plt.xlabel(\"Value\")\n",
    "plt.ylabel(\"Frequency\")\n",
    "plt.legend()\n",
    "plt.show()"
   ]
  },
  {
   "cell_type": "code",
   "execution_count": 67,
   "metadata": {},
   "outputs": [
    {
     "name": "stdout",
     "output_type": "stream",
     "text": [
      "-0.004947970935483045\n"
     ]
    }
   ],
   "source": [
    "# Question 8\n",
    "\n",
    "E_XY = np.mean(x * y)\n",
    "print(E_XY)"
   ]
  },
  {
   "attachments": {},
   "cell_type": "markdown",
   "metadata": {},
   "source": [
    "---\n",
    "\n",
    "# Version Control via Git"
   ]
  },
  {
   "attachments": {},
   "cell_type": "markdown",
   "metadata": {},
   "source": [
    "## 11\n",
    "**[4 points]** Git is efficient for collaboration, and expectation in industry, and one of the best ways to share results in academia. You can even use some Git repositories (e.g. Github) as hosts for website, such as with the [course website](https://kylebradbury.github.io/ids705/index.html). As a data scientist with experience in machine learning, Git is expected. We will interact with Git repositories (a.k.a. repos) throughout this course, and your project will require the use of git repos for collaboration.\n",
    "\n",
    "Complete the [Atlassian Git tutorial](https://www.atlassian.com/git/tutorials/what-is-version-control), specifically the following listed sections. Try each concept that's presented. For this tutorial, instead of using BitBucket as your remote repository host, you may use your preferred platform such as [Github](https://github.com/) or [Duke's Gitlab](https://gitlab.oit.duke.edu/users/sign_in).\n",
    "1. [What is version control](https://www.atlassian.com/git/tutorials/what-is-version-control)\n",
    "2. [What is Git](https://www.atlassian.com/git/tutorials/what-is-git)\n",
    "3. [Install Git](https://www.atlassian.com/git/tutorials/install-git)\n",
    "4. [Setting up a repository](https://www.atlassian.com/git/tutorials/install-git)\n",
    "5. [Saving changes](https://www.atlassian.com/git/tutorials/saving-changes)\n",
    "6. [Inspecting a repository](https://www.atlassian.com/git/tutorials/inspecting-a-repository)\n",
    "7. [Undoing changes](https://www.atlassian.com/git/tutorials/undoing-changes)\n",
    "8. [Rewriting history](https://www.atlassian.com/git/tutorials/rewriting-history)\n",
    "9. [Syncing](https://www.atlassian.com/git/tutorials/syncing)\n",
    "10. [Making a pull request](https://www.atlassian.com/git/tutorials/making-a-pull-request)\n",
    "11. [Using branches](https://www.atlassian.com/git/tutorials/using-branches)\n",
    "12. [Comparing workflows](https://www.atlassian.com/git/tutorials/comparing-workflows)\n",
    "\n",
    "I also have created two videos on the topic to help you understand some of these concepts: [Git basics](https://www.youtube.com/watch?v=fBCwfoBr2ng) and a [step-by-step tutorial](https://www.youtube.com/watch?v=nH7qJHx-h5s).\n",
    "\n",
    "As an additional resource, Microsoft now offers a git [tutorial](https://learn.microsoft.com/en-us/collections/o1njfe825p602p) on this topic as well.\n",
    "\n",
    "For your answer, affirm that you *either* completed the tutorials above OR have previous experience with ALL of the concepts above. Confirm this by typing your name below and selecting the situation that applies from the two options in brackets."
   ]
  },
  {
   "cell_type": "markdown",
   "metadata": {},
   "source": [
    "**ANSWER**\n",
    "\n",
    "*I, [**Jiechen Li**], affirm that I have [**I have previous experience that covers all the content in this tutorial**]*"
   ]
  },
  {
   "attachments": {},
   "cell_type": "markdown",
   "metadata": {},
   "source": [
    "---\n",
    "\n",
    "# Exploratory Data Analysis\n",
    "## 12\n",
    "**[15 points]** Here you'll bring together some of the individual skills that you demonstrated above and create a Jupyter notebook based blog post on your exploratory data analysis. Your goal is to identify a question or problem and to work towards solving it or providing additional information or evidence (data) related to it through your data analysis. Below, we walk through a process to follow for your analysis. Additionally, you can find an [example of a well-done exploratory data analysis here from past years](https://github.com/kylebradbury/ids705/blob/master/assignments/Assignment_1_Q12_Example.ipynb).\n",
    "\n",
    "1. Find a dataset that interests you and relates to a question or problem that you find intriguing.\n",
    "2. Describe the dataset, the source of the data, and the reason the dataset was of interest. Include a description of the features, data size, data creator and year of creation (if available), etc. What question are you hoping to answer through exploring the dataset?\n",
    "3. Check the data and see if they need to be cleaned: are there missing values? Are there clearly erroneous values? Do two tables need to be merged together? Clean the data so it can be visualized. If the data are clean, state how you know they are clean (what did you check?).\n",
    "3. Plot the data, demonstrating interesting features that you discover. Are there any relationships between variables that were surprising or patterns that emerged? Please exercise creativity and curiosity in your plots. You should have at least 4 plots exploring the data in different ways.\n",
    "4. What insights are you able to take away from exploring the data? Is there a reason why analyzing the dataset you chose is particularly interesting or important? Summarize this for a general audience (imagine your publishing a blog post online) - boil down your findings in a way that is accessible, but still accurate.\n",
    "\n",
    "Here your analysis will evaluated based on:\n",
    "1. Motivation: was the purpose of the choice of data clearly articulated? Why was the dataset chosen and what was the goal of the analysis?\n",
    "2. Data cleaning: were any issues with the data investigated and, if found, were they resolved?\n",
    "3. Quality of data exploration: were at least 4 unique plots (minimum) included and did those plots demonstrate interesting aspects of the data? Was there a clear purpose and takeaway from EACH plot? \n",
    "4. Interpretation: Were the insights revealed through the analysis and their potential implications clearly explained? Was there an overall conclusion to the analysis?"
   ]
  },
  {
   "cell_type": "markdown",
   "metadata": {},
   "source": [
    "**ANSWER**"
   ]
  },
  {
   "cell_type": "markdown",
   "metadata": {},
   "source": [
    "#### Education EDA \n",
    "\n",
    "**Name of Dataset**: Number of Participating Students with Disabilities in Reading and Mathematics Assessment With and Without Accommodations\n",
    "\n",
    "**Source of Dataset**: [North Carolina Department of Public Instruction](https://www.dpi.nc.gov/districts-schools/testing-and-school-accountability/school-accountability-and-reporting/accountability-data-sets-and-reports#2022-23Reports-4468), an educational official website of the States of North Carolina\n",
    "\n",
    "##### Motivation:\n",
    "\n",
    "-  The purpose of the choosen dataset is clearly articulated. For the 2022–23 school year, schools continued to deal with student learning loss due to the COVID pandemic. Data from the 2022–23 school year should be reviewed in these contexts and comparisons to prior years’ results should be made with caution. With the backdrop of the COVID pandemic and its effect on education, this analysis aims to provide insights into how different accommodations may influence student participation and performance.\n",
    "\n",
    "-  The goal of this analysis is to :\n",
    "\n",
    "   1): understand the impact of accommodations on the participation of students with disabilities in reading and mathematics assessments across various grade levels in North Carolina;\n",
    "\n",
    "   2): identify any significant trends or disparities in the participation rates with and without accommodations across different districts and schools. This could highlight areas where additional resources or focus might be needed to support students with disabilities;\n",
    "\n",
    "   3): explore whether there are particular grade levels or subjects where students with disabilities participate more or less with accommodations, providing a deeper understanding of the educational landscape in the wake of the pandemic.\n",
    "\n",
    "- Ultimately, this EDA seeks to inform educational policy and support mechanisms by pinpointing the effectiveness of accommodations and identifying potential areas for improvement in educational strategies for students with disabilities.\n",
    "\n",
    "\n"
   ]
  },
  {
   "cell_type": "markdown",
   "metadata": {},
   "source": [
    "#### Load the Dataset"
   ]
  },
  {
   "cell_type": "code",
   "execution_count": 70,
   "metadata": {},
   "outputs": [
    {
     "data": {
      "text/html": [
       "<div>\n",
       "<style scoped>\n",
       "    .dataframe tbody tr th:only-of-type {\n",
       "        vertical-align: middle;\n",
       "    }\n",
       "\n",
       "    .dataframe tbody tr th {\n",
       "        vertical-align: top;\n",
       "    }\n",
       "\n",
       "    .dataframe thead th {\n",
       "        text-align: right;\n",
       "    }\n",
       "</style>\n",
       "<table border=\"1\" class=\"dataframe\">\n",
       "  <thead>\n",
       "    <tr style=\"text-align: right;\">\n",
       "      <th></th>\n",
       "      <th>Reporting year</th>\n",
       "      <th>District code</th>\n",
       "      <th>District name</th>\n",
       "      <th>School code</th>\n",
       "      <th>District or school name</th>\n",
       "      <th>Subject</th>\n",
       "      <th>Grade level</th>\n",
       "      <th>Participating with accommodations</th>\n",
       "      <th>Participating without accommodations</th>\n",
       "      <th>Unnamed: 9</th>\n",
       "    </tr>\n",
       "  </thead>\n",
       "  <tbody>\n",
       "    <tr>\n",
       "      <th>0</th>\n",
       "      <td>2023</td>\n",
       "      <td>NC</td>\n",
       "      <td>State of North Carolina</td>\n",
       "      <td>NC-SEA</td>\n",
       "      <td>State of North Carolina</td>\n",
       "      <td>RD</td>\n",
       "      <td>3</td>\n",
       "      <td>8,065</td>\n",
       "      <td>6,768</td>\n",
       "      <td>NaN</td>\n",
       "    </tr>\n",
       "    <tr>\n",
       "      <th>1</th>\n",
       "      <td>2023</td>\n",
       "      <td>NC</td>\n",
       "      <td>State of North Carolina</td>\n",
       "      <td>NC-SEA</td>\n",
       "      <td>State of North Carolina</td>\n",
       "      <td>RD</td>\n",
       "      <td>4</td>\n",
       "      <td>8,874</td>\n",
       "      <td>6,189</td>\n",
       "      <td>NaN</td>\n",
       "    </tr>\n",
       "    <tr>\n",
       "      <th>2</th>\n",
       "      <td>2023</td>\n",
       "      <td>NC</td>\n",
       "      <td>State of North Carolina</td>\n",
       "      <td>NC-SEA</td>\n",
       "      <td>State of North Carolina</td>\n",
       "      <td>RD</td>\n",
       "      <td>5</td>\n",
       "      <td>8,961</td>\n",
       "      <td>5,550</td>\n",
       "      <td>NaN</td>\n",
       "    </tr>\n",
       "    <tr>\n",
       "      <th>3</th>\n",
       "      <td>2023</td>\n",
       "      <td>NC</td>\n",
       "      <td>State of North Carolina</td>\n",
       "      <td>NC-SEA</td>\n",
       "      <td>State of North Carolina</td>\n",
       "      <td>RD</td>\n",
       "      <td>6</td>\n",
       "      <td>9,110</td>\n",
       "      <td>4,673</td>\n",
       "      <td>NaN</td>\n",
       "    </tr>\n",
       "    <tr>\n",
       "      <th>4</th>\n",
       "      <td>2023</td>\n",
       "      <td>NC</td>\n",
       "      <td>State of North Carolina</td>\n",
       "      <td>NC-SEA</td>\n",
       "      <td>State of North Carolina</td>\n",
       "      <td>RD</td>\n",
       "      <td>7</td>\n",
       "      <td>9,383</td>\n",
       "      <td>4,317</td>\n",
       "      <td>NaN</td>\n",
       "    </tr>\n",
       "  </tbody>\n",
       "</table>\n",
       "</div>"
      ],
      "text/plain": [
       "   Reporting year District code            District name School code  \\\n",
       "0            2023            NC  State of North Carolina      NC-SEA   \n",
       "1            2023            NC  State of North Carolina      NC-SEA   \n",
       "2            2023            NC  State of North Carolina      NC-SEA   \n",
       "3            2023            NC  State of North Carolina      NC-SEA   \n",
       "4            2023            NC  State of North Carolina      NC-SEA   \n",
       "\n",
       "   District or school name Subject  Grade level  \\\n",
       "0  State of North Carolina      RD            3   \n",
       "1  State of North Carolina      RD            4   \n",
       "2  State of North Carolina      RD            5   \n",
       "3  State of North Carolina      RD            6   \n",
       "4  State of North Carolina      RD            7   \n",
       "\n",
       "  Participating with accommodations Participating without accommodations  \\\n",
       "0                             8,065                                6,768   \n",
       "1                             8,874                                6,189   \n",
       "2                             8,961                                5,550   \n",
       "3                             9,110                                4,673   \n",
       "4                             9,383                                4,317   \n",
       "\n",
       "   Unnamed: 9  \n",
       "0         NaN  \n",
       "1         NaN  \n",
       "2         NaN  \n",
       "3         NaN  \n",
       "4         NaN  "
      ]
     },
     "execution_count": 70,
     "metadata": {},
     "output_type": "execute_result"
    }
   ],
   "source": [
    "file_path_2 = \"2023 SWD Accommodations Report.csv\"\n",
    "swd_data = pd.read_csv(file_path_2)\n",
    "\n",
    "swd_data.head()"
   ]
  },
  {
   "cell_type": "code",
   "execution_count": 71,
   "metadata": {},
   "outputs": [
    {
     "data": {
      "text/plain": [
       "Reporting year                              0\n",
       "District code                               0\n",
       "District name                               0\n",
       "School code                                 0\n",
       "District or school name                     0\n",
       "Subject                                     0\n",
       "Grade level                                 0\n",
       "Participating with accommodations           0\n",
       "Participating without accommodations        0\n",
       "Unnamed: 9                              17477\n",
       "dtype: int64"
      ]
     },
     "execution_count": 71,
     "metadata": {},
     "output_type": "execute_result"
    }
   ],
   "source": [
    "# check for missing values\n",
    "swd_data.isnull().sum()\n"
   ]
  },
  {
   "cell_type": "code",
   "execution_count": 72,
   "metadata": {},
   "outputs": [
    {
     "data": {
      "text/plain": [
       "0"
      ]
     },
     "execution_count": 72,
     "metadata": {},
     "output_type": "execute_result"
    }
   ],
   "source": [
    "# check for duplicates\n",
    "swd_data.duplicated().sum()"
   ]
  },
  {
   "cell_type": "markdown",
   "metadata": {},
   "source": [
    "#### Data Cleaning"
   ]
  },
  {
   "cell_type": "code",
   "execution_count": 77,
   "metadata": {},
   "outputs": [
    {
     "data": {
      "text/html": [
       "<div>\n",
       "<style scoped>\n",
       "    .dataframe tbody tr th:only-of-type {\n",
       "        vertical-align: middle;\n",
       "    }\n",
       "\n",
       "    .dataframe tbody tr th {\n",
       "        vertical-align: top;\n",
       "    }\n",
       "\n",
       "    .dataframe thead th {\n",
       "        text-align: right;\n",
       "    }\n",
       "</style>\n",
       "<table border=\"1\" class=\"dataframe\">\n",
       "  <thead>\n",
       "    <tr style=\"text-align: right;\">\n",
       "      <th></th>\n",
       "      <th>Reporting year</th>\n",
       "      <th>District code</th>\n",
       "      <th>District name</th>\n",
       "      <th>School code</th>\n",
       "      <th>District or school name</th>\n",
       "      <th>Subject</th>\n",
       "      <th>Grade level</th>\n",
       "      <th>Participating with accommodations</th>\n",
       "      <th>Participating without accommodations</th>\n",
       "    </tr>\n",
       "  </thead>\n",
       "  <tbody>\n",
       "    <tr>\n",
       "      <th>0</th>\n",
       "      <td>2023</td>\n",
       "      <td>NC</td>\n",
       "      <td>State of North Carolina</td>\n",
       "      <td>NC-SEA</td>\n",
       "      <td>State of North Carolina</td>\n",
       "      <td>RD</td>\n",
       "      <td>3</td>\n",
       "      <td>8065.0</td>\n",
       "      <td>6768.0</td>\n",
       "    </tr>\n",
       "    <tr>\n",
       "      <th>1</th>\n",
       "      <td>2023</td>\n",
       "      <td>NC</td>\n",
       "      <td>State of North Carolina</td>\n",
       "      <td>NC-SEA</td>\n",
       "      <td>State of North Carolina</td>\n",
       "      <td>RD</td>\n",
       "      <td>4</td>\n",
       "      <td>8874.0</td>\n",
       "      <td>6189.0</td>\n",
       "    </tr>\n",
       "    <tr>\n",
       "      <th>2</th>\n",
       "      <td>2023</td>\n",
       "      <td>NC</td>\n",
       "      <td>State of North Carolina</td>\n",
       "      <td>NC-SEA</td>\n",
       "      <td>State of North Carolina</td>\n",
       "      <td>RD</td>\n",
       "      <td>5</td>\n",
       "      <td>8961.0</td>\n",
       "      <td>5550.0</td>\n",
       "    </tr>\n",
       "    <tr>\n",
       "      <th>3</th>\n",
       "      <td>2023</td>\n",
       "      <td>NC</td>\n",
       "      <td>State of North Carolina</td>\n",
       "      <td>NC-SEA</td>\n",
       "      <td>State of North Carolina</td>\n",
       "      <td>RD</td>\n",
       "      <td>6</td>\n",
       "      <td>9110.0</td>\n",
       "      <td>4673.0</td>\n",
       "    </tr>\n",
       "    <tr>\n",
       "      <th>4</th>\n",
       "      <td>2023</td>\n",
       "      <td>NC</td>\n",
       "      <td>State of North Carolina</td>\n",
       "      <td>NC-SEA</td>\n",
       "      <td>State of North Carolina</td>\n",
       "      <td>RD</td>\n",
       "      <td>7</td>\n",
       "      <td>9383.0</td>\n",
       "      <td>4317.0</td>\n",
       "    </tr>\n",
       "  </tbody>\n",
       "</table>\n",
       "</div>"
      ],
      "text/plain": [
       "   Reporting year District code            District name School code  \\\n",
       "0            2023            NC  State of North Carolina      NC-SEA   \n",
       "1            2023            NC  State of North Carolina      NC-SEA   \n",
       "2            2023            NC  State of North Carolina      NC-SEA   \n",
       "3            2023            NC  State of North Carolina      NC-SEA   \n",
       "4            2023            NC  State of North Carolina      NC-SEA   \n",
       "\n",
       "   District or school name Subject  Grade level  \\\n",
       "0  State of North Carolina      RD            3   \n",
       "1  State of North Carolina      RD            4   \n",
       "2  State of North Carolina      RD            5   \n",
       "3  State of North Carolina      RD            6   \n",
       "4  State of North Carolina      RD            7   \n",
       "\n",
       "   Participating with accommodations  Participating without accommodations  \n",
       "0                             8065.0                                6768.0  \n",
       "1                             8874.0                                6189.0  \n",
       "2                             8961.0                                5550.0  \n",
       "3                             9110.0                                4673.0  \n",
       "4                             9383.0                                4317.0  "
      ]
     },
     "execution_count": 77,
     "metadata": {},
     "output_type": "execute_result"
    }
   ],
   "source": [
    "# convert to numeric\n",
    "swd_data[\"Participating with accommodations\"] = pd.to_numeric(\n",
    "    swd_data[\"Participating with accommodations\"]\n",
    "    .str.replace(\",\", \"\")\n",
    "    .str.replace(\"*\", \"\"),\n",
    "    errors=\"coerce\",\n",
    ")\n",
    "\n",
    "swd_data[\"Participating without accommodations\"] = pd.to_numeric(\n",
    "    swd_data[\"Participating without accommodations\"]\n",
    "    .str.replace(\",\", \"\")\n",
    "    .str.replace(\"*\", \"\"),\n",
    "    errors=\"coerce\",\n",
    ")\n",
    "\n",
    "# drop NA column\n",
    "swd_data.drop(columns=[\"Unnamed: 9\"], inplace=True)\n",
    "\n",
    "# verify the changes\n",
    "swd_data.head()"
   ]
  },
  {
   "cell_type": "markdown",
   "metadata": {},
   "source": [
    "#### EDA"
   ]
  },
  {
   "cell_type": "markdown",
   "metadata": {},
   "source": [
    "**1. Participation Rates Across Different Grades**\n",
    "\n"
   ]
  },
  {
   "cell_type": "code",
   "execution_count": 87,
   "metadata": {},
   "outputs": [
    {
     "data": {
      "image/png": "[encoded data removed]",
      "text/plain": [
       "<Figure size 1200x600 with 1 Axes>"
      ]
     },
     "metadata": {},
     "output_type": "display_data"
    }
   ],
   "source": [
    "import seaborn as sns\n",
    "import warnings\n",
    "\n",
    "warnings.filterwarnings(\"ignore\")\n",
    "\n",
    "# plot participation rates across different grades\n",
    "import matplotlib.pyplot as plt\n",
    "import seaborn as sns\n",
    "\n",
    "# Plotting participation rates across different grades\n",
    "plt.figure(figsize=(12, 6))\n",
    "sns.barplot(\n",
    "    data=swd_data,\n",
    "    x=\"Grade level\",\n",
    "    y=\"Participating with accommodations\",\n",
    "    color=\"blue\",\n",
    "    alpha=0.5,\n",
    "    label=\"With Accommodations\",\n",
    ")\n",
    "sns.barplot(\n",
    "    data=swd_data,\n",
    "    x=\"Grade level\",\n",
    "    y=\"Participating without accommodations\",\n",
    "    color=\"red\",\n",
    "    alpha=0.5,\n",
    "    label=\"Without Accommodations\",\n",
    ")\n",
    "plt.title(\"Participation Rates With and Without Accommodations Across Different Grades\")\n",
    "plt.xlabel(\"Grade Level\")\n",
    "plt.ylabel(\"Number of Participants\")\n",
    "plt.legend()\n",
    "plt.show()"
   ]
  },
  {
   "cell_type": "markdown",
   "metadata": {},
   "source": [
    "**2. Comparing Participation in Reading and Mathematics**\n"
   ]
  },
  {
   "cell_type": "code",
   "execution_count": 81,
   "metadata": {},
   "outputs": [
    {
     "data": {
      "image/png": "[encoded data removed]",
      "text/plain": [
       "<Figure size 1200x600 with 1 Axes>"
      ]
     },
     "metadata": {},
     "output_type": "display_data"
    }
   ],
   "source": [
    "plt.figure(figsize=(12, 6))\n",
    "sns.barplot(\n",
    "    data=swd_data, x=\"Subject\", y=\"Participating with accommodations\", hue=\"Grade level\"\n",
    ")\n",
    "plt.title(\"Participation With Accommodations in Reading and Mathematics by Grade Level\")\n",
    "plt.xlabel(\"Subject\")\n",
    "plt.ylabel(\"Number of Participants with Accommodations\")\n",
    "plt.show()"
   ]
  },
  {
   "cell_type": "markdown",
   "metadata": {},
   "source": [
    "**3. Disparities Across Different Districts**"
   ]
  },
  {
   "cell_type": "code",
   "execution_count": 85,
   "metadata": {},
   "outputs": [
    {
     "data": {
      "image/png": "[encoded data removed]",
      "text/plain": [
       "<Figure size 1200x800 with 1 Axes>"
      ]
     },
     "metadata": {},
     "output_type": "display_data"
    }
   ],
   "source": [
    "# calculating total participants with accommodations for each district\n",
    "district_accommodations = (\n",
    "    swd_data.groupby(\"District name\")[\"Participating with accommodations\"]\n",
    "    .sum()\n",
    "    .reset_index()\n",
    ")\n",
    "\n",
    "# sort top N districts\n",
    "top_n_districts = district_accommodations.sort_values(\n",
    "    by=\"Participating with accommodations\", ascending=False\n",
    ").head(20)\n",
    "\n",
    "# plot the top 20 districts\n",
    "plt.figure(figsize=(12, 8))\n",
    "sns.barplot(\n",
    "    data=top_n_districts,\n",
    "    y=\"District name\",\n",
    "    x=\"Participating with accommodations\",\n",
    "    orient=\"h\",\n",
    ")\n",
    "plt.title(\"Top Districts for Participation With Accommodations\")\n",
    "plt.xlabel(\"Number of Participants with Accommodations\")\n",
    "plt.ylabel(\"District Name\")\n",
    "plt.show()"
   ]
  },
  {
   "cell_type": "markdown",
   "metadata": {},
   "source": [
    "**4. Effectiveness of Accommodations**\n",
    "\n"
   ]
  },
  {
   "cell_type": "code",
   "execution_count": 83,
   "metadata": {},
   "outputs": [
    {
     "data": {
      "image/png": "[encoded data removed]",
      "text/plain": [
       "<Figure size 1200x600 with 1 Axes>"
      ]
     },
     "metadata": {},
     "output_type": "display_data"
    }
   ],
   "source": [
    "swd_data[\"Total Participating\"] = (\n",
    "    swd_data[\"Participating with accommodations\"]\n",
    "    + swd_data[\"Participating without accommodations\"]\n",
    ")\n",
    "swd_data[\"Proportion With Accommodations\"] = (\n",
    "    swd_data[\"Participating with accommodations\"] / swd_data[\"Total Participating\"]\n",
    ")\n",
    "\n",
    "plt.figure(figsize=(12, 6))\n",
    "sns.barplot(\n",
    "    data=swd_data, x=\"Grade level\", y=\"Proportion With Accommodations\", hue=\"Subject\"\n",
    ")\n",
    "plt.title(\n",
    "    \"Proportion of Students Participating With Accommodations by Grade Level and Subject\"\n",
    ")\n",
    "plt.xlabel(\"Grade Level\")\n",
    "plt.ylabel(\"Proportion With Accommodations\")\n",
    "plt.show()"
   ]
  },
  {
   "cell_type": "markdown",
   "metadata": {},
   "source": [
    "#### Interpretation\n",
    "\n",
    "The exploratory data analysis of the 2022-23 school year data reveals several key insights into the participation of students with disabilities in North Carolina's educational assessments:\n",
    "\n",
    "**1. Participation with Accommodations**:\n",
    "\n",
    "The analysis indicated that a significant number of students with disabilities participate in assessments with accommodations. This suggests that schools are recognizing and acting upon the unique needs of these students to provide them with the necessary support during assessments.\n",
    "\n",
    "**2. Disparities Across Districts**:\n",
    "\n",
    "There were noticeable disparities in participation rates with accommodations across different districts. Some districts showed higher participation rates with accommodations, which may indicate a more robust support system or a greater awareness of student needs. In contrast, districts with lower participation rates may require additional scrutiny to ensure that all students have equal access to accommodations.\n",
    "\n",
    "**3.Grade-Level Trends**:\n",
    "\n",
    "The data displayed varying participation rates across grade levels, with certain grades showing higher use of accommodations. This could be due to the varying academic challenges that come with different curricula or developmental stages. It's important for educators and policymakers to recognize these patterns to tailor their support strategies effectively.\n",
    "\n",
    "**4. Subject-Specific Participation**:\n",
    "\n",
    "The participation rates in reading and mathematics assessments showed that accommodations were utilized differently across subjects. This might reflect the nature of the assessments or the specific challenges faced by students with disabilities in those subjects.\n",
    "\n",
    "**5. Impact of COVID-19**:\n",
    "\n",
    "When considering the ongoing impact of the COVID pandemic, it is crucial to understand that these patterns may also be influenced by the disruptions in traditional learning environments. The pandemic has necessitated shifts in educational approaches, which could affect how accommodations are provided and utilized.\n",
    "\n",
    "\n",
    "In conclusion, this EDA analysis has highlighted the importance of accommodations in supporting students with disabilities and underscored the need for equitable access to these accommodations. The findings suggest that while accommodations are widely used, there may be opportunities to improve their implementation across districts and grade levels. As schools continue to adapt to the aftermath of the pandemic, these insights could guide efforts to enhance the educational support system for students with disabilities, ensuring that all students have the opportunity to achieve their full academic potential.\n"
   ]
  }
 ],
 "metadata": {
  "kernelspec": {
   "display_name": "base",
   "language": "python",
   "name": "python3"
  },
  "language_info": {
   "codemirror_mode": {
    "name": "ipython",
    "version": 3
   },
   "file_extension": ".py",
   "mimetype": "text/x-python",
   "name": "python",
   "nbconvert_exporter": "python",
   "pygments_lexer": "ipython3",
   "version": "3.11.7"
  },
  "nteract": {
   "version": "0.28.0"
  },
  "varInspector": {
   "cols": {
    "lenName": 16,
    "lenType": 16,
    "lenVar": 40
   },
   "kernels_config": {
    "python": {
     "delete_cmd_postfix": "",
     "delete_cmd_prefix": "del ",
     "library": "var_list.py",
     "varRefreshCmd": "print(var_dic_list())"
    },
    "r": {
     "delete_cmd_postfix": ") ",
     "delete_cmd_prefix": "rm(",
     "library": "var_list.r",
     "varRefreshCmd": "cat(var_dic_list()) "
    }
   },
   "position": {
    "height": "643px",
    "left": "1548px",
    "right": "20px",
    "top": "121px",
    "width": "350px"
   },
   "types_to_exclude": [
    "module",
    "function",
    "builtin_function_or_method",
    "instance",
    "_Feature"
   ],
   "window_display": true
  },
  "vscode": {
   "interpreter": {
    "hash": "f54e0b9f92ceb50229b3b7ea26b5d02f05ce8845dd8d997c014a0efede4c9c20"
   }
  }
 },
 "nbformat": 4,
 "nbformat_minor": 2
}
